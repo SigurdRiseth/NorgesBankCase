{
 "cells": [
  {
   "cell_type": "markdown",
   "metadata": {},
   "source": [
    "# Task (X+1)^1\n",
    "\n",
    "Task: Given the log files in `ressurser/oppgavex+1`, create a normalised log.\n",
    "\n",
    "```json\n",
    "{\n",
    "  \"timestamp\": \"2024-11-07T16:00:00Z\",\n",
    "  \"src_ip\": \"10.32.12.2\",\n",
    "  \"dst_ip\": \"10.120.49.83\",\n",
    "  \"src_port\": 34657,\n",
    "  \"dst_port\": 53,\n",
    "  \"protocol\": \"UDP\",\n",
    "  \"vlan\": 12,\n",
    "  \"source\": \"azure_nsg\"\n",
    "}\n",
    "```"
   ]
  },
  {
   "cell_type": "code",
   "execution_count": 13,
   "metadata": {},
   "outputs": [],
   "source": [
    "import json\n",
    "\n",
    "# Eksempel på en Azure NSG loggparser\n",
    "def parse_azure_nsg_log(line):\n",
    "    log = {\n",
    "        \"timestamp\": line[\"time\"],\n",
    "        \"src_ip\": line[\"src_ip\"],\n",
    "        \"dst_ip\": line[\"dst_ip\"],\n",
    "        \"src_port\": int(line[\"src_port\"]),\n",
    "        \"dst_port\": int(line[\"dst_port\"]),\n",
    "        \"protocol\": line[\"protocol\"],\n",
    "        \"vlan\": int(line[\"vlan\"]),\n",
    "        \"source\": \"azure_nsg\"\n",
    "    }\n",
    "    return log\n",
    "\n",
    "# Eksempel på en Corelight loggparser\n",
    "def parse_corelight_log(line):\n",
    "    log = {\n",
    "        \"timestamp\": line[\"ts\"],\n",
    "        \"src_ip\": line[\"src_ip\"],\n",
    "        \"dst_ip\": line[\"dst_ip\"],\n",
    "        \"src_port\": int(line[\"src_port\"]),\n",
    "        \"dst_port\": int(line[\"dst_port\"]),\n",
    "        \"protocol\": line[\"protocol\"],\n",
    "        \"source\": \"corelight\"\n",
    "    }\n",
    "    return log\n",
    "\n",
    "# Eksempel på en Tcpdump loggparser\n",
    "def parse_tcpdump_log(line):\n",
    "    log = {\n",
    "        \"timestamp\": line[\"timestamp\"],\n",
    "        \"src_ip\": line[\"src_ip\"],\n",
    "        \"dst_ip\": line[\"dst_ip\"],\n",
    "        \"src_port\": int(line[\"src_port\"]),\n",
    "        \"dst_port\": int(line[\"dst_port\"]),\n",
    "        \"protocol\": line[\"protocol\"],\n",
    "        \"source\": \"tcpdump\"\n",
    "    }\n",
    "    return log"
   ]
  },
  {
   "cell_type": "markdown",
   "metadata": {},
   "source": [
    "Koden over ville ikke fungert i praksis (forskjeller i formatering av linjene), men viser kort hvordan jeg ville gått fram for å løse dette.\n",
    "Videre ville jeg iterert over hver linje i de tre loggfilene og sendt de inn til sin loggparser metode."
   ]
  }
 ],
 "metadata": {
  "kernelspec": {
   "display_name": "Python 3",
   "language": "python",
   "name": "python3"
  },
  "language_info": {
   "codemirror_mode": {
    "name": "ipython",
    "version": 3
   },
   "file_extension": ".py",
   "mimetype": "text/x-python",
   "name": "python",
   "nbconvert_exporter": "python",
   "pygments_lexer": "ipython3",
   "version": "3.9.6"
  }
 },
 "nbformat": 4,
 "nbformat_minor": 2
}
